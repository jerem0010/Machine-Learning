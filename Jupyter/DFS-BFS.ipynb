{
 "cells": [
  {
   "cell_type": "markdown",
   "id": "bf951901-bc64-4e8c-bca6-909f9930d46a",
   "metadata": {},
   "source": [
    "Algo de Recherche"
   ]
  },
  {
   "cell_type": "code",
   "execution_count": 8,
   "id": "4ad4a321-43ce-4a9a-84dc-005183f7fffd",
   "metadata": {
    "tags": []
   },
   "outputs": [],
   "source": [
    "import numpy as np"
   ]
  },
  {
   "cell_type": "code",
   "execution_count": 1,
   "id": "b03229a7-2f1f-45a6-8dfe-c2534d0ee9d5",
   "metadata": {
    "tags": []
   },
   "outputs": [],
   "source": [
    "class Node():\n",
    "    def __init__(self, state, parent, action):\n",
    "        self.state = state\n",
    "        self.parent = parent\n",
    "        self.action = action"
   ]
  },
  {
   "cell_type": "code",
   "execution_count": 2,
   "id": "af997862-e9b8-4be7-800f-eb650c4dbccb",
   "metadata": {
    "tags": []
   },
   "outputs": [],
   "source": [
    "class StackFrontier():\n",
    "    def __init__(self):\n",
    "        self.frontier = []\n",
    "\n",
    "    def add(self, node):\n",
    "        self.frontier.append(node)\n",
    "\n",
    "    def contains_state(self, state):\n",
    "        print(f\"Checking for state: {state}\")\n",
    "        print(f\"Frontier states: {[node.state for node in self.frontier]}\")\n",
    "        return any(node.state == state for node in self.frontier)\n",
    "\n",
    "    def empty(self):\n",
    "        return len(self.frontier) == 0\n",
    "\n",
    "    def remove(self):\n",
    "        if self.empty():\n",
    "            raise Exception(\"empty frontier\")\n",
    "        else:\n",
    "            node = self.frontier[-1]\n",
    "            self.frontier = self.frontier[:-1]\n",
    "            return node"
   ]
  },
  {
   "cell_type": "markdown",
   "id": "dae28039-6fe6-403d-bda0-9167bf2694f8",
   "metadata": {},
   "source": [
    "Initialisation d'une matrice 10x10 (labyrinthe) "
   ]
  },
  {
   "cell_type": "code",
   "execution_count": 11,
   "id": "01c82352-fef2-4c6a-a288-dc0dd558650e",
   "metadata": {
    "tags": []
   },
   "outputs": [],
   "source": [
    "X = np.zeros((10, 10))"
   ]
  },
  {
   "cell_type": "code",
   "execution_count": 25,
   "id": "01754f37-843b-47bd-8bed-c718d8776e14",
   "metadata": {
    "tags": []
   },
   "outputs": [
    {
     "data": {
      "text/plain": [
       "array([[0., 0., 0., 0., 0., 3., 0., 0., 0., 0.],\n",
       "       [0., 0., 0., 0., 0., 0., 0., 0., 0., 0.],\n",
       "       [0., 0., 0., 0., 3., 3., 0., 0., 0., 0.],\n",
       "       [0., 0., 0., 2., 0., 0., 0., 0., 0., 0.],\n",
       "       [0., 0., 0., 0., 0., 0., 0., 0., 0., 0.],\n",
       "       [0., 0., 0., 0., 0., 0., 0., 0., 0., 0.],\n",
       "       [0., 0., 0., 0., 0., 0., 0., 0., 0., 0.],\n",
       "       [0., 0., 0., 0., 0., 0., 0., 0., 0., 0.],\n",
       "       [3., 0., 0., 0., 0., 0., 2., 0., 0., 2.],\n",
       "       [0., 0., 0., 0., 0., 2., 0., 0., 0., 0.]])"
      ]
     },
     "execution_count": 25,
     "metadata": {},
     "output_type": "execute_result"
    }
   ],
   "source": [
    "start_point = np.random.randint(0, 10, size=2)\n",
    "end_point = np.random.randint(0, 10, size=2)\n",
    "\n",
    "source = X[start_point[0], start_point[1]] = 2\n",
    "target = X[end_point[0], end_point[1]] = 3\n",
    "\n",
    "\"\"\"\n",
    "0 = Cases accessibles\n",
    "1 = Cases non accessible\n",
    "2 = Point de départ \n",
    "3 = Point d'arrivé\n",
    "\"\"\"\n",
    "X\n"
   ]
  },
  {
   "cell_type": "code",
   "execution_count": 23,
   "id": "03a146ef-cc92-4214-a6b3-cd2bbf6a29d5",
   "metadata": {
    "tags": []
   },
   "outputs": [],
   "source": [
    "def find_path(source, target, X)\n",
    "    start = Node(state=source, parent=None, action=None)\n",
    "    frontier = StackFrontier()\n",
    "    frontier.add(start)\n",
    "    explored = set()\n",
    "    \n",
    "    while True:\n",
    "        if"
   ]
  },
  {
   "cell_type": "code",
   "execution_count": null,
   "id": "6f5fabd9-360f-4d7b-8ae6-2681f15512e8",
   "metadata": {},
   "outputs": [],
   "source": [
    "while True:\n",
    "    "
   ]
  }
 ],
 "metadata": {
  "kernelspec": {
   "display_name": "Python 3 (ipykernel)",
   "language": "python",
   "name": "python3"
  },
  "language_info": {
   "codemirror_mode": {
    "name": "ipython",
    "version": 3
   },
   "file_extension": ".py",
   "mimetype": "text/x-python",
   "name": "python",
   "nbconvert_exporter": "python",
   "pygments_lexer": "ipython3",
   "version": "3.11.5"
  }
 },
 "nbformat": 4,
 "nbformat_minor": 5
}
